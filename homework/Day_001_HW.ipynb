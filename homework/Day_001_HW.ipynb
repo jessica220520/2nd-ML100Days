{
 "cells": [
  {
   "cell_type": "markdown",
   "metadata": {},
   "source": [
    "作業1：\n",
    "\n",
    "請上 Kaggle, 在 Competitions 或 Dataset 中找一組競賽或資料並寫下：\n",
    "\n",
    "1. 你選的這組資料為何重要?\n",
    "    ANS: 由資料去預測是否存活，可為機器學習的例子。\n",
    "\n",
    "2. 資料從何而來? (tips: 譬如提供者是誰、以什麼方式蒐集)\n",
    "    ANS: 由 Kaggle 網站來的\n",
    "    https://www.kaggle.com/c/titanic/data\n",
    "\n",
    "3. 蒐集而來的資料型態為何?\n",
    "    ANS: 三個資料型態均為.csv，有 train.csv, test.csv和gender_submission.csv。\n",
    "\n",
    "4. 這組資料想解決的問題如何評估?\n",
    "    ANS: 可利用已知的gender_submission 來評估所預測的資料。\n",
    "    "
   ]
  },
  {
   "cell_type": "code",
   "execution_count": null,
   "metadata": {},
   "outputs": [],
   "source": []
  }
 ],
 "metadata": {
  "kernelspec": {
   "display_name": "Python 3",
   "language": "python",
   "name": "python3"
  },
  "language_info": {
   "codemirror_mode": {
    "name": "ipython",
    "version": 3
   },
   "file_extension": ".py",
   "mimetype": "text/x-python",
   "name": "python",
   "nbconvert_exporter": "python",
   "pygments_lexer": "ipython3",
   "version": "3.7.1"
  }
 },
 "nbformat": 4,
 "nbformat_minor": 2
}
